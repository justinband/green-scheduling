{
 "cells": [
  {
   "cell_type": "code",
   "execution_count": 1,
   "metadata": {},
   "outputs": [],
   "source": [
    "import pandas as pd\n",
    "import numpy as np\n",
    "import matplotlib.pyplot as plt\n",
    "import scipy.stats as stats\n",
    "from importlib import reload\n",
    "import energy_data\n",
    "reload(energy_data)\n",
    "from energy_data import EnergyData"
   ]
  },
  {
   "cell_type": "code",
   "execution_count": 16,
   "metadata": {},
   "outputs": [],
   "source": [
    "filename = 'DK_2023_hourly.csv'\n",
    "energy_data = EnergyData(filename)"
   ]
  },
  {
   "cell_type": "markdown",
   "metadata": {},
   "source": [
    "### Randomly sample from data"
   ]
  },
  {
   "cell_type": "code",
   "execution_count": 17,
   "metadata": {},
   "outputs": [
    {
     "name": "stdout",
     "output_type": "stream",
     "text": [
      "8760\n",
      "Energy [0.18614599 0.19689296 0.21447116 ... 0.17054692 0.1715897  0.1863588 ]\n",
      "Energy normalized: [0.22268568 0.1591828  0.32668653 0.22872952 0.14292403 0.14645669\n",
      " 0.18661417 0.22460098 0.22287721 0.10391573]\n"
     ]
    }
   ],
   "source": [
    "samples_n = energy_data.sample_normalized_data(10, 0, 1)"
   ]
  },
  {
   "cell_type": "code",
   "execution_count": 18,
   "metadata": {},
   "outputs": [
    {
     "ename": "NameError",
     "evalue": "name 'carbon_intensity' is not defined",
     "output_type": "error",
     "traceback": [
      "\u001b[0;31m---------------------------------------------------------------------------\u001b[0m",
      "\u001b[0;31mNameError\u001b[0m                                 Traceback (most recent call last)",
      "Cell \u001b[0;32mIn[18], line 12\u001b[0m\n\u001b[1;32m     10\u001b[0m dist_results \u001b[39m=\u001b[39m []\n\u001b[1;32m     11\u001b[0m params \u001b[39m=\u001b[39m {}\n\u001b[0;32m---> 12\u001b[0m data \u001b[39m=\u001b[39m carbon_intensity\n\u001b[1;32m     13\u001b[0m \u001b[39mfor\u001b[39;00m dist_name \u001b[39min\u001b[39;00m dist_names:\n\u001b[1;32m     14\u001b[0m     dist \u001b[39m=\u001b[39m \u001b[39mgetattr\u001b[39m(stats, dist_name)\n",
      "\u001b[0;31mNameError\u001b[0m: name 'carbon_intensity' is not defined"
     ]
    }
   ],
   "source": [
    "dist_names = [\"norm\", \n",
    "            #   \"exponweib\", \n",
    "            #   \"weibull_max\", \n",
    "            #   \"weibull_min\", \n",
    "            #   \"pareto\", \n",
    "            #   \"genextreme\", \n",
    "              \"lognorm\",\n",
    "              \"gamma\"\n",
    "              ]\n",
    "dist_results = []\n",
    "params = {}\n",
    "data = carbon_intensity\n",
    "for dist_name in dist_names:\n",
    "    dist = getattr(stats, dist_name)\n",
    "    param = dist.fit(data)\n",
    "\n",
    "    params[dist_name] = param\n",
    "    # Applying the Kolmogorov-Smirnov test\n",
    "    D, p = stats.kstest(data, dist_name, args=param)\n",
    "    print(\"p value for \"+dist_name+\" = \"+str(p))\n",
    "    dist_results.append((dist_name, p))\n",
    "\n",
    "# select the best fitted distribution\n",
    "best_dist, best_p = (max(dist_results, key=lambda item: item[1]))\n",
    "# store the name of the best fit and its p value\n",
    "\n",
    "print(\"Best fitting distribution: \"+str(best_dist))\n",
    "print(\"Best p value: \"+ str(best_p))\n",
    "print(\"Parameters for the best fit: \"+ str(params[best_dist]))\n",
    "\n",
    "shape, location, scale = stats.lognorm.fit(carbon_intensity)\n",
    "samples = stats.lognorm.rvs(shape, location, scale, size=carbon_count)"
   ]
  }
 ],
 "metadata": {
  "kernelspec": {
   "display_name": "Python 3",
   "language": "python",
   "name": "python3"
  },
  "language_info": {
   "codemirror_mode": {
    "name": "ipython",
    "version": 3
   },
   "file_extension": ".py",
   "mimetype": "text/x-python",
   "name": "python",
   "nbconvert_exporter": "python",
   "pygments_lexer": "ipython3",
   "version": "3.12.7"
  },
  "orig_nbformat": 4
 },
 "nbformat": 4,
 "nbformat_minor": 2
}
