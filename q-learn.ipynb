{
 "cells": [
  {
   "cell_type": "code",
   "execution_count": 332,
   "metadata": {},
   "outputs": [],
   "source": [
    "from importlib import reload\n",
    "import single_process_mdp\n",
    "reload(single_process_mdp)\n",
    "from single_process_mdp import SingleProcessMDP\n",
    "import matplotlib.pyplot as plt\n",
    "import numpy as np"
   ]
  },
  {
   "cell_type": "code",
   "execution_count": 333,
   "metadata": {},
   "outputs": [],
   "source": [
    "class QLearn:\n",
    "    \"\"\"\n",
    "    QLearn\n",
    "    \"\"\"\n",
    "    def __init__(self, env, epsilon = 0.1, gamma = 0.95, episodes = 100):\n",
    "        self.env = env\n",
    "        self.epsilon = epsilon  # exploration rate\n",
    "        self.gamma = gamma      # discount factor\n",
    "        self.episodes = episodes\n",
    "        self.q_history = None\n",
    "        self.optimal_policy = None\n",
    "        self.mse_loss = np.empty((self.episodes))\n",
    "        self.mae_loss = np.empty((self.episodes))\n",
    "\n",
    "    def reset(self):\n",
    "        self.q_history = None\n",
    "        self.optimal_policy = None\n",
    "        s = self.env.reset()\n",
    "        return s\n",
    "\n",
    "    def choose_action(self, q, s):\n",
    "        if np.random.rand () < self.epsilon:\n",
    "            return np.random.choice(self.env.na)\n",
    "        else:\n",
    "            return np.argmax(q[s])\n",
    "        \n",
    "\n",
    "    def execute(self):\n",
    "        counts = np.zeros((self.env.ns, self.env.na))\n",
    "        q = np.random.rand(self.env.ns, self.env.na) # Initialize Q-value table\n",
    "        q_history = np.zeros((self.episodes, self.env.ns, self.env.na))\n",
    "\n",
    "        for t in range(self.episodes):\n",
    "            s = self.reset() # Reset the MDP in each episode\n",
    "\n",
    "            done = False\n",
    "\n",
    "            while not done: # Repeat until the job completes\n",
    "                a = self.choose_action(q, s)\n",
    "\n",
    "                counts[s, a] += 1\n",
    "\n",
    "                # Perform action -> get new state, reward (loss), and done flag\n",
    "                s_prime, r, is_done = self.env.step(a)\n",
    "\n",
    "                # Update Q-Value\n",
    "                delta = r + self.gamma * (np.max(q[s_prime], axis=0)) - q[s, a]\n",
    "                alpha = 2 / (counts[s, a]**(2/3) + 1)\n",
    "                q[s, a] = q[s, a] + (alpha * delta)\n",
    "                q_history[t] = q\n",
    "\n",
    "                # Move to next state\n",
    "                s = s_prime\n",
    "                done = is_done\n",
    "\n",
    "        self.q_history = q_history\n",
    "        self.optimal_policy = np.argmax(q_history[-1], axis=1)\n",
    "        return q_history\n",
    "    \n",
    "    def compute_loss(self, calc_mae=False, calc_mse=True):\n",
    "        for i in range(self.episodes):\n",
    "            diff = self.q_history[-1] - self.q_history[i]\n",
    "\n",
    "            if calc_mae:\n",
    "                infnorm = np.linalg.norm(diff, ord=np.inf)\n",
    "                self.mae_loss[i] = infnorm\n",
    "\n",
    "            if calc_mse:\n",
    "                self.mse_loss[i] =  np.mean(diff ** 2)\n",
    "\n",
    "    def plot_loss(self, plot_mae=False, plot_mse=True):\n",
    "        if plot_mae:\n",
    "            plt.plot(self.mae_loss, label=\"Mean Absolute Error\")\n",
    "        if plot_mse:\n",
    "            plt.plot(self.mse_loss, label=\"Mean Squared Error\")\n",
    "\n",
    "        plt.xlabel(\"Episode\")\n",
    "        plt.ylabel(\"Error\")\n",
    "\n",
    "        if plot_mae and plot_mse:\n",
    "            plt.legend()\n",
    "\n",
    "        plt.show()\n"
   ]
  },
  {
   "cell_type": "code",
   "execution_count": 334,
   "metadata": {},
   "outputs": [],
   "source": [
    "NUM_STATES = 10\n",
    "env = SingleProcessMDP(NUM_STATES)\n",
    "env.reset()\n",
    "\n",
    "EPISODES = 1000\n",
    "EPSILON = 0.1\n",
    "GAMMA = 0.95\n",
    "q_learn = QLearn(env, epsilon=EPSILON, episodes=EPISODES)\n",
    "hist = q_learn.execute()"
   ]
  },
  {
   "cell_type": "code",
   "execution_count": 335,
   "metadata": {},
   "outputs": [
    {
     "name": "stdout",
     "output_type": "stream",
     "text": [
      "Optimal Q: [[10.20863791 11.07877787]\n",
      " [10.8029965  11.7421983 ]\n",
      " [11.3543185  12.4405356 ]\n",
      " [12.26855824 13.17562749]\n",
      " [12.91591852 13.94940843]\n",
      " [13.66529243 14.76391468]\n",
      " [14.63354818 15.62128968]\n",
      " [15.45082098 16.52378968]\n",
      " [16.22599826 17.47378968]\n",
      " [17.27378156 18.47378968]]\n",
      "Optimal Policy: [1 1 1 1 1 1 1 1 1 1]\n"
     ]
    },
    {
     "data": {
      "image/png": "[encoded data removed]",
      "text/plain": [
       "<Figure size 640x480 with 1 Axes>"
      ]
     },
     "metadata": {},
     "output_type": "display_data"
    }
   ],
   "source": [
    "optimal_q = hist[-1] # Optimal is the last one we stopped on.\n",
    "\n",
    "print(\"Optimal Q:\", optimal_q)\n",
    "\n",
    "optimal_policy = np.argmax(optimal_q, axis=1)\n",
    "print(\"Optimal Policy:\", optimal_policy)\n",
    "\n",
    "q_learn.compute_loss(True, True)\n",
    "q_learn.plot_loss(True, True)"
   ]
  }
 ],
 "metadata": {
  "kernelspec": {
   "display_name": "Python 3",
   "language": "python",
   "name": "python3"
  },
  "language_info": {
   "codemirror_mode": {
    "name": "ipython",
    "version": 3
   },
   "file_extension": ".py",
   "mimetype": "text/x-python",
   "name": "python",
   "nbconvert_exporter": "python",
   "pygments_lexer": "ipython3",
   "version": "3.12.2"
  },
  "orig_nbformat": 4
 },
 "nbformat": 4,
 "nbformat_minor": 2
}
